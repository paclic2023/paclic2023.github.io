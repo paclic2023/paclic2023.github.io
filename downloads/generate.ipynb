{
 "cells": [
  {
   "cell_type": "code",
   "execution_count": 5,
   "metadata": {},
   "outputs": [],
   "source": [
    "str = \"5\tChengguang Gan and Tatsunori Mori\tSensitivity and Robustness of Large Language Models to Prompt Template in Japanese Text Classification Tasks\tinformation on submission 5\tPACLIC_37_paper_5.pdf\treview assignment for submission 5\tupdate submission 5\tJun 05, 06:27\"\n",
    "\n",
    "'''\n",
    "**Sensitivity and Robustness of Large Language Models to Prompt Template in Japanese Text Classification Tasks**<br>Chengguang Gan and Tatsunori Mori<br>[link to paper](/downloads/PACLIC_37/PACLIC_37_paper_5.pdf)\n",
    "'''\n",
    "\n",
    "def get_paper_info(str):\n",
    "    # string_to_write = \"**\" + str.split(\"\\t\")[1] + \"**<br>\" + str.split(\"\\t\")[2] + \"<br>[link to paper](/downloads/PACLIC_37/\" + str.split(\"\\t\")[4] + \")\"\n",
    "    string_to_write = \"**\" + \"yay\" + \"**<br>\" + \"yay\" + \"<br>[link to paper](/downloads/PACLIC_37/\" + str.split(\"\\t\")[4] + \")\"\n",
    "\n",
    "    return string_to_write\n",
    "\n",
    "infile = open(\"accepted\", \"r\")\n",
    "outfile = open(\"accepted.md\", \"w\")\n",
    "for line in infile:\n",
    "    outfile.write(get_paper_info(line) + \"\\n\\n\")\n",
    "infile.close()\n",
    "outfile.close()"
   ]
  }
 ],
 "metadata": {
  "kernelspec": {
   "display_name": "Python 3",
   "language": "python",
   "name": "python3"
  },
  "language_info": {
   "codemirror_mode": {
    "name": "ipython",
    "version": 3
   },
   "file_extension": ".py",
   "mimetype": "text/x-python",
   "name": "python",
   "nbconvert_exporter": "python",
   "pygments_lexer": "ipython3",
   "version": "3.10.13"
  }
 },
 "nbformat": 4,
 "nbformat_minor": 2
}
