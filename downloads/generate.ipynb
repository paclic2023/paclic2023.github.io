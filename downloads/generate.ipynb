{
 "cells": [
  {
   "cell_type": "code",
   "execution_count": 1,
   "metadata": {},
   "outputs": [
    {
     "name": "stdout",
     "output_type": "stream",
     "text": [
      "**Chengguang Gan and Tatsunori Mori**<br>Sensitivity and Robustness of Large Language Models to Prompt Template in Japanese Text Classification Tasks<br>[link to paper](/downloads/PACLIC_37/review assignment for submission 5)\n"
     ]
    }
   ],
   "source": [
    "str = \"5\tChengguang Gan and Tatsunori Mori\tSensitivity and Robustness of Large Language Models to Prompt Template in Japanese Text Classification Tasks\tinformation on submission 5\tPACLIC_37_paper_5.pdf\treview assignment for submission 5\tupdate submission 5\tJun 05, 06:27\"\n",
    "\n",
    "'''\n",
    "**Sensitivity and Robustness of Large Language Models to Prompt Template in Japanese Text Classification Tasks**<br>Chengguang Gan and Tatsunori Mori<br>[link to paper](/downloads/PACLIC_37/PACLIC_37_paper_5.pdf)\n",
    "'''\n",
    "\n",
    "def get_paper_info(str):\n",
    "    string_to_write = \"**\" + str.split(\"\\t\")[1] + \"**<br>\" + str.split(\"\\t\")[2] + \"<br>[link to paper](/downloads/PACLIC_37/\" + str.split(\"\\t\")[5] + \")\"\n",
    "\n",
    "    return string_to_write\n",
    "\n",
    "print(get_paper_info(str))"
   ]
  }
 ],
 "metadata": {
  "kernelspec": {
   "display_name": "Python 3",
   "language": "python",
   "name": "python3"
  },
  "language_info": {
   "name": "python",
   "version": "3.10.13"
  }
 },
 "nbformat": 4,
 "nbformat_minor": 2
}
